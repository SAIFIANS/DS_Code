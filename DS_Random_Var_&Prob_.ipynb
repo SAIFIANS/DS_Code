{
  "nbformat": 4,
  "nbformat_minor": 0,
  "metadata": {
    "colab": {
      "provenance": [],
      "authorship_tag": "ABX9TyNPaPFnqbAIY03zCuuxTxAt",
      "include_colab_link": true
    },
    "kernelspec": {
      "name": "python3",
      "display_name": "Python 3"
    },
    "language_info": {
      "name": "python"
    }
  },
  "cells": [
    {
      "cell_type": "markdown",
      "metadata": {
        "id": "view-in-github",
        "colab_type": "text"
      },
      "source": [
        "<a href=\"https://colab.research.google.com/github/SAIFIANS/DS_Code/blob/main/DS_Random_Var_%26Prob_.ipynb\" target=\"_parent\"><img src=\"https://colab.research.google.com/assets/colab-badge.svg\" alt=\"Open In Colab\"/></a>"
      ]
    },
    {
      "cell_type": "markdown",
      "source": [
        "There are two types of events -\n",
        "\n",
        "Random Variable,         Deterministic Variable\n",
        "\n",
        "Deterministic Var - is Constant or fixed\n",
        "\n",
        "Random Var - Takes more than one values"
      ],
      "metadata": {
        "id": "y4yYbjUATAgx"
      }
    },
    {
      "cell_type": "code",
      "source": [
        "#import libraries\n",
        "import pandas as pd\n",
        "import numpy as np\n",
        "from scipy import stats"
      ],
      "metadata": {
        "id": "OqT1DlvrTU7I"
      },
      "execution_count": 41,
      "outputs": []
    },
    {
      "cell_type": "markdown",
      "source": [
        "Probability Distributions can be done on Random Variables\n",
        "\n",
        "Binomial Distribution Rules -\n",
        "\n",
        "- Exp. should consists of n trials\n",
        "- Each trial can reasult in just two possible outcomes\n",
        "- The prob. of sucess if denoted by P, is same for every trial\n",
        "- The trials are independent that is the outcome on one trial does not affect the outcome on another trial\n"
      ],
      "metadata": {
        "id": "dxtEXScwVaw4"
      }
    },
    {
      "cell_type": "code",
      "source": [
        "# Binomial Dist. is for Discrete Random Var.\n",
        "# Normal Dist. is for Cont. Random Var."
      ],
      "metadata": {
        "id": "7_rBWKIYEc50"
      },
      "execution_count": null,
      "outputs": []
    },
    {
      "cell_type": "markdown",
      "source": [
        "Normal Distribution Properties\n",
        "- Every Normal Dist. has its own mean and Std. Dev.\n",
        "- Its shape of the normal dist. is symmetric around the mean.\n",
        "- The mean, median and mode are equal\n",
        "- The area under the curve is 1.\n",
        "- Normal Dist. are denser in the center and less in the tails.\n",
        "- Since the normal dist. is mould shape, it follows the empirical rule i.e. -\n",
        "  - 68% of the data are within 1 Std. Dev. of mean\n",
        "  - 95% of the data are within 2 Std. Dev. of mean\n",
        "  - 99.7% of the data are within 3 Std. Dev. of mean"
      ],
      "metadata": {
        "id": "lqM_KpUJH_0b"
      }
    },
    {
      "cell_type": "markdown",
      "source": [
        "#Probability Distributions and Confidence Interval-1current\n",
        "#19:59:00\n"
      ],
      "metadata": {
        "id": "Ii2NLExRca8_"
      }
    },
    {
      "cell_type": "markdown",
      "source": [
        "Z-scores or Standardization of data.\n",
        "\n",
        "z-score makes use of the mean and the Std. Dev. of the data set in order to specify the relative location of a measurement.\n",
        "It represents the distance b/w a given data point and the mean, expressed in Std. Dev. The score is also known as \"Standardizing\" the data point\n",
        "\n",
        "Z = (xi-mue)/sigma"
      ],
      "metadata": {
        "id": "Ke33PDVBK7Xb"
      }
    },
    {
      "cell_type": "markdown",
      "source": [
        "#Probability Calculation for cont. Dist. -\n",
        "\n",
        "The prob. associated with any single value of the random var. is always 0.\n",
        "\n",
        "To calc. Cont. Prob. Use -\n",
        "\n",
        "from scipy import stats\n",
        "\n",
        "stats.norm.cdf(x,loc=mean,scale=std)"
      ],
      "metadata": {
        "id": "7q3PEmRzSnH-"
      }
    },
    {
      "cell_type": "code",
      "source": [
        "from scipy import stats\n",
        "stats.norm.cdf(70,loc=60,scale=10)\n"
      ],
      "metadata": {
        "colab": {
          "base_uri": "https://localhost:8080/"
        },
        "id": "nAtg9p2IJrkd",
        "outputId": "c56f8420-7044-4037-a08c-f6650b553a92"
      },
      "execution_count": null,
      "outputs": [
        {
          "output_type": "execute_result",
          "data": {
            "text/plain": [
              "0.8413447460685429"
            ]
          },
          "metadata": {},
          "execution_count": 2
        }
      ]
    },
    {
      "cell_type": "code",
      "source": [
        "stats.norm.cdf(680,711,29)"
      ],
      "metadata": {
        "colab": {
          "base_uri": "https://localhost:8080/"
        },
        "id": "HbDKlqY8UIqB",
        "outputId": "cbe52c8e-70d6-401a-a9aa-e6bdb238c64d"
      },
      "execution_count": null,
      "outputs": [
        {
          "output_type": "execute_result",
          "data": {
            "text/plain": [
              "0.14254260383881612"
            ]
          },
          "metadata": {},
          "execution_count": 3
        }
      ]
    },
    {
      "cell_type": "code",
      "source": [
        "1-(stats.norm.cdf(720,711,29))"
      ],
      "metadata": {
        "colab": {
          "base_uri": "https://localhost:8080/"
        },
        "id": "bURqFnTXU3rp",
        "outputId": "c3cc4095-dfa4-4131-9945-7ad804879c29"
      },
      "execution_count": null,
      "outputs": [
        {
          "output_type": "execute_result",
          "data": {
            "text/plain": [
              "0.37814937265194704"
            ]
          },
          "metadata": {},
          "execution_count": 6
        }
      ]
    },
    {
      "cell_type": "code",
      "source": [
        "(stats.norm.cdf(740,711,29))-(stats.norm.cdf(680,711,29))"
      ],
      "metadata": {
        "colab": {
          "base_uri": "https://localhost:8080/"
        },
        "id": "z8SlrOwJVPvW",
        "outputId": "7b1ec72d-9722-43cb-db40-e2c38e9d85b0"
      },
      "execution_count": null,
      "outputs": [
        {
          "output_type": "execute_result",
          "data": {
            "text/plain": [
              "0.6988021422297268"
            ]
          },
          "metadata": {},
          "execution_count": 9
        }
      ]
    },
    {
      "cell_type": "code",
      "source": [
        "import pandas as pd\n",
        "beml_df =pd.read_csv(\"/content/BEML.csv\")\n",
        "glaxo_df=pd.read_csv(\"/content/GLAXO.csv\")"
      ],
      "metadata": {
        "id": "gJQdBKDrVxsL"
      },
      "execution_count": 7,
      "outputs": []
    },
    {
      "cell_type": "code",
      "source": [
        "glaxo_df = glaxo_df.set_index(pd.DatetimeIndex(glaxo_df['Date']))\n",
        "beml_df = beml_df.set_index(pd.DatetimeIndex(beml_df['Date']))"
      ],
      "metadata": {
        "id": "cEDxTdxKfWrE"
      },
      "execution_count": null,
      "outputs": []
    },
    {
      "cell_type": "code",
      "source": [
        "import matplotlib.pyplot as plt\n",
        "import seaborn as sns\n",
        "%matplotlib inline\n",
        "plt.plot(glaxo_df.Close);\n",
        "plt.xlabel('Time');\n",
        "plt.ylabel('Close Price');"
      ],
      "metadata": {
        "colab": {
          "base_uri": "https://localhost:8080/",
          "height": 449
        },
        "id": "twkkburKfu81",
        "outputId": "84405f70-979c-48fe-fe28-24e637287dbb"
      },
      "execution_count": null,
      "outputs": [
        {
          "output_type": "display_data",
          "data": {
            "text/plain": [
              "<Figure size 640x480 with 1 Axes>"
            ],
            "image/png": "[encoded data removed]"
          },
          "metadata": {}
        }
      ]
    },
    {
      "cell_type": "code",
      "source": [
        "plt.plot(beml_df.Close);\n",
        "plt.xlabel('Time');\n",
        "plt.ylabel('Close Price');"
      ],
      "metadata": {
        "colab": {
          "base_uri": "https://localhost:8080/",
          "height": 449
        },
        "id": "mI4tBlUNgBi1",
        "outputId": "0dc092c6-18c9-4daa-81b8-c076b0449060"
      },
      "execution_count": null,
      "outputs": [
        {
          "output_type": "display_data",
          "data": {
            "text/plain": [
              "<Figure size 640x480 with 1 Axes>"
            ],
            "image/png": "[encoded data removed]"
          },
          "metadata": {}
        }
      ]
    },
    {
      "cell_type": "code",
      "source": [
        "glaxo_df['gain'] = glaxo_df.Close.pct_change(periods =1)\n",
        "beml_df['gain'] = beml_df.Close.pct_change(periods =1)"
      ],
      "metadata": {
        "id": "anezJNyMgGmN"
      },
      "execution_count": null,
      "outputs": []
    },
    {
      "cell_type": "code",
      "source": [
        "glaxo_df = glaxo_df.dropna()\n",
        "beml_df = beml_df.dropna()"
      ],
      "metadata": {
        "id": "p1Ow3msugbaP"
      },
      "execution_count": null,
      "outputs": []
    },
    {
      "cell_type": "code",
      "source": [
        "plt.figure(figsize = (8, 6));\n",
        "plt.plot(glaxo_df.index, glaxo_df.gain);\n",
        "plt.xlabel('Time');\n",
        "plt.ylabel('gain');"
      ],
      "metadata": {
        "colab": {
          "base_uri": "https://localhost:8080/",
          "height": 514
        },
        "id": "2AAijZobgkEY",
        "outputId": "dc2c89d0-939b-47bf-f48a-c2bfbf3efab2"
      },
      "execution_count": null,
      "outputs": [
        {
          "output_type": "display_data",
          "data": {
            "text/plain": [
              "<Figure size 800x600 with 1 Axes>"
            ],
            "image/png": "[encoded data removed]"
          },
          "metadata": {}
        }
      ]
    },
    {
      "cell_type": "code",
      "source": [
        "sns.distplot(glaxo_df.gain, label = 'Glaxo');\n",
        "plt.xlabel('gain');\n",
        "plt.ylabel('Density');\n",
        "plt.legend();"
      ],
      "metadata": {
        "colab": {
          "base_uri": "https://localhost:8080/",
          "height": 640
        },
        "id": "xvnf2n5sg4Sp",
        "outputId": "1bded3a4-2884-4e51-da0d-aeacc68ab712"
      },
      "execution_count": null,
      "outputs": [
        {
          "output_type": "stream",
          "name": "stderr",
          "text": [
            "<ipython-input-18-58b25c2e9214>:1: UserWarning: \n",
            "\n",
            "`distplot` is a deprecated function and will be removed in seaborn v0.14.0.\n",
            "\n",
            "Please adapt your code to use either `displot` (a figure-level function with\n",
            "similar flexibility) or `histplot` (an axes-level function for histograms).\n",
            "\n",
            "For a guide to updating your code to use the new functions, please see\n",
            "https://gist.github.com/mwaskom/de44147ed2974457ad6372750bbe5751\n",
            "\n",
            "  sns.distplot(glaxo_df.gain, label = 'Glaxo');\n"
          ]
        },
        {
          "output_type": "display_data",
          "data": {
            "text/plain": [
              "<Figure size 640x480 with 1 Axes>"
            ],
            "image/png": "[encoded data removed]"
          },
          "metadata": {}
        }
      ]
    },
    {
      "cell_type": "code",
      "source": [
        "#prob. of making 2% loss or higher in Glaxo\n",
        "stats.norm.cdf(-0.02,\n",
        "               loc=glaxo_df.gain.mean(),\n",
        "               scale=glaxo_df.gain.std())"
      ],
      "metadata": {
        "colab": {
          "base_uri": "https://localhost:8080/"
        },
        "id": "nLM2-64MhIKz",
        "outputId": "7a0a4fd5-3e14-45ef-e390-06b39a77d679"
      },
      "execution_count": null,
      "outputs": [
        {
          "output_type": "execute_result",
          "data": {
            "text/plain": [
              "0.06352488667177401"
            ]
          },
          "metadata": {},
          "execution_count": 19
        }
      ]
    },
    {
      "cell_type": "code",
      "source": [
        "#prob. of making 2% gain or higher in Glaxo\n",
        "1- stats.norm.cdf(0.02,\n",
        "               loc=glaxo_df.gain.mean(),\n",
        "               scale=glaxo_df.gain.std())"
      ],
      "metadata": {
        "colab": {
          "base_uri": "https://localhost:8080/"
        },
        "id": "ohjm7HtKhsVs",
        "outputId": "588218e5-b7fd-4aa7-f131-1c5809650ed0"
      },
      "execution_count": null,
      "outputs": [
        {
          "output_type": "execute_result",
          "data": {
            "text/plain": [
              "0.07104511457618568"
            ]
          },
          "metadata": {},
          "execution_count": 25
        }
      ]
    },
    {
      "cell_type": "code",
      "source": [
        "#prob. of making 2% loss or higher in beml\n",
        "stats.norm.cdf(-0.02,\n",
        "               loc=beml_df.gain.mean(),\n",
        "               scale=beml_df.gain.std())"
      ],
      "metadata": {
        "colab": {
          "base_uri": "https://localhost:8080/"
        },
        "id": "uL9-Rocthz2W",
        "outputId": "ff255982-0cf7-4704-8b33-968c09d795c6"
      },
      "execution_count": null,
      "outputs": [
        {
          "output_type": "execute_result",
          "data": {
            "text/plain": [
              "0.22155987503755292"
            ]
          },
          "metadata": {},
          "execution_count": 23
        }
      ]
    },
    {
      "cell_type": "code",
      "source": [
        "#prob. of making 2% gain or higher in beml\n",
        "1-stats.norm.cdf(0.02,\n",
        "               loc=beml_df.gain.mean(),\n",
        "               scale=beml_df.gain.std())"
      ],
      "metadata": {
        "colab": {
          "base_uri": "https://localhost:8080/"
        },
        "id": "WbswdKtyiMUm",
        "outputId": "8de87938-83e2-41c1-b866-1f4f637dd03b"
      },
      "execution_count": null,
      "outputs": [
        {
          "output_type": "execute_result",
          "data": {
            "text/plain": [
              "0.22769829484075355"
            ]
          },
          "metadata": {},
          "execution_count": 26
        }
      ]
    },
    {
      "cell_type": "code",
      "source": [
        "#Probability Distributions and Confidence Interval-1\n",
        "##Until 02:44:00"
      ],
      "metadata": {
        "id": "1DM1hklZijj3"
      },
      "execution_count": null,
      "outputs": []
    },
    {
      "cell_type": "markdown",
      "source": [
        "Inferntial Statistics"
      ],
      "metadata": {
        "id": "QMx0HOXmVIsB"
      }
    },
    {
      "cell_type": "markdown",
      "source": [
        "# Central Limit Theorem (CLT)\n",
        "The distribution of the sample mean -\n",
        "- will be normal when the distribution of data in the population is normal\n",
        "- will be appox. normal even if the distribution of the data in the \n",
        "population is not normal, if the population is fairly large\n"
      ],
      "metadata": {
        "id": "dd42OtSsX4km"
      }
    },
    {
      "cell_type": "markdown",
      "source": [
        "#Confidence Interval (CI)\n",
        "\n"
      ],
      "metadata": {
        "id": "ocqJqr4fZj_p"
      }
    },
    {
      "cell_type": "code",
      "source": [
        "1990+1.645*211.29"
      ],
      "metadata": {
        "colab": {
          "base_uri": "https://localhost:8080/"
        },
        "id": "tEnCB06RX7UL",
        "outputId": "afc58fcd-e76d-4fb4-9018-12b822f6d2b4"
      },
      "execution_count": 1,
      "outputs": [
        {
          "output_type": "execute_result",
          "data": {
            "text/plain": [
              "2337.5720499999998"
            ]
          },
          "metadata": {},
          "execution_count": 1
        }
      ]
    },
    {
      "cell_type": "code",
      "source": [
        "1990-1.645*211.29"
      ],
      "metadata": {
        "colab": {
          "base_uri": "https://localhost:8080/"
        },
        "id": "tEcPtJK6vksV",
        "outputId": "3f0b4d3d-27d0-46a3-c0ac-0c82ab1b14f3"
      },
      "execution_count": 3,
      "outputs": [
        {
          "output_type": "execute_result",
          "data": {
            "text/plain": [
              "1642.42795"
            ]
          },
          "metadata": {},
          "execution_count": 3
        }
      ]
    },
    {
      "cell_type": "code",
      "source": [
        "# Z distribution\n",
        "\n",
        "from scipy import stats\n",
        "stats.norm.ppf(.90)"
      ],
      "metadata": {
        "colab": {
          "base_uri": "https://localhost:8080/"
        },
        "id": "LKQhFw47vtg7",
        "outputId": "da6de063-4383-4572-e62a-692bd1850283"
      },
      "execution_count": 5,
      "outputs": [
        {
          "output_type": "execute_result",
          "data": {
            "text/plain": [
              "1.2815515655446004"
            ]
          },
          "metadata": {},
          "execution_count": 5
        }
      ]
    },
    {
      "cell_type": "markdown",
      "source": [
        "#Confidence interval, Hypothesis Testing"
      ],
      "metadata": {
        "id": "WWBcCCynxWrb"
      }
    },
    {
      "cell_type": "code",
      "source": [
        "# T distribution\n",
        "\n",
        "from scipy import stats\n",
        "\n",
        "stats.t.ppf(0.975,df=139)"
      ],
      "metadata": {
        "colab": {
          "base_uri": "https://localhost:8080/"
        },
        "id": "ThTciDdCvx9s",
        "outputId": "be573413-d6ea-4d37-cf49-8bc957a16110"
      },
      "execution_count": 5,
      "outputs": [
        {
          "output_type": "execute_result",
          "data": {
            "text/plain": [
              "1.977177724476122"
            ]
          },
          "metadata": {},
          "execution_count": 5
        }
      ]
    },
    {
      "cell_type": "code",
      "source": [
        "glaxo_df =pd.read_csv('/content/glaxo_df.csv')\n",
        "beml_df =pd.read_csv(\"/content/beml_df.csv\")"
      ],
      "metadata": {
        "id": "wd3RRQZS3AhS"
      },
      "execution_count": 16,
      "outputs": []
    },
    {
      "cell_type": "code",
      "source": [
        "import numpy as np\n",
        "glaxo_df_ci = stats.norm.interval(0.95,\n",
        "loc=glaxo_df.gain.mean(),\n",
        "scale =glaxo_df.gain.std())\n",
        "print(\"Gain at 95% confidence interval is :\",np.round(glaxo_df_ci,4))\n"
      ],
      "metadata": {
        "colab": {
          "base_uri": "https://localhost:8080/"
        },
        "id": "BQqQRIitzfhL",
        "outputId": "dea08ce0-2b5d-42dc-ed01-d82c2e631c7a"
      },
      "execution_count": 18,
      "outputs": [
        {
          "output_type": "stream",
          "name": "stdout",
          "text": [
            "Gain at 95% confidence interval is : [-0.0258  0.0266]\n"
          ]
        }
      ]
    },
    {
      "cell_type": "markdown",
      "source": [
        "##Hypothesis Testing\n",
        "Hypothesis Testing is a statistical method that is used in making statistical decisions using experimental data. Hypothesis testing is basically an assumption that we make abou the population parameter.\n",
        "\n",
        "1. Define Hypothesis\n",
        "        H0 : Null Hypothesis  H0 : mue <=120/s/w\n",
        "\n",
        "        Ha : Alternate Hypothesis Ha : mue >120/s/w\n",
        "2. Select test (z/t)\n",
        "###a.k.a Critical Value\n",
        "- we choose z-test when pop. std. is given\n",
        "- total no. of data points are >=30\n",
        "- formula for calculating z test (xbar-mue)/lambda/underscore(n)\n",
        "\n",
        "- we choose t-test when pop. std is not given\n",
        "- formula for t-test \n",
        "(xbar-mue)/s/undescore(n)\n",
        "\n",
        "3. Get the alpha value (default 0.05)\n",
        "\n",
        "4. Compute p-value for t-value -\n",
        "stats.t.cdf(t,df)\n",
        "5. Compare p-value with alpha value\n",
        "\n",
        "if p<alpha reject H0\n",
        "\n",
        "if p>alpha fail to reject H0\n"
      ],
      "metadata": {
        "id": "jonKlsnl4fDI"
      }
    },
    {
      "cell_type": "code",
      "source": [
        "stats.t.cdf(2.2,79)"
      ],
      "metadata": {
        "colab": {
          "base_uri": "https://localhost:8080/"
        },
        "id": "kfl5BPE-2YLD",
        "outputId": "6ef66ab2-0d6e-4ad6-a456-b2c3b04bb4d5"
      },
      "execution_count": 20,
      "outputs": [
        {
          "output_type": "execute_result",
          "data": {
            "text/plain": [
              "0.9846354922292375"
            ]
          },
          "metadata": {},
          "execution_count": 20
        }
      ]
    },
    {
      "cell_type": "markdown",
      "source": [
        "###Normal Distribution\n",
        "stats.norm.cdf(z/t,loc=0,scale=0) this is used for Hypothesis Testing and calc. the area\n",
        "\n",
        "\n",
        "stats.norm.ppf(Confidence Level,loc=0,scale=0) this is used for Confidence Interval\n",
        "\n",
        " ### t-distribution codes\n",
        " \n",
        " stats.t.cdf(t-value,df)\n",
        "\n",
        " stats.t.ppf(Confidence Level,df)"
      ],
      "metadata": {
        "id": "BNCJxNSVDj48"
      }
    },
    {
      "cell_type": "code",
      "source": [
        "# Until 1:30:50"
      ],
      "metadata": {
        "id": "-JQnrxagDAan"
      },
      "execution_count": null,
      "outputs": []
    },
    {
      "cell_type": "markdown",
      "source": [
        "###Variants to Hypothesis T-test\n",
        "\n"
      ],
      "metadata": {
        "id": "gUimBGvGPvkE"
      }
    },
    {
      "cell_type": "code",
      "source": [
        "import numpy as np\n",
        "(4-7.2)/(3/np.sqrt(50))\n"
      ],
      "metadata": {
        "colab": {
          "base_uri": "https://localhost:8080/"
        },
        "id": "pajqWgoZP1EW",
        "outputId": "87ec9702-0b4b-486e-ecf5-e828eb7475e6"
      },
      "execution_count": 31,
      "outputs": [
        {
          "output_type": "execute_result",
          "data": {
            "text/plain": [
              "-7.542472332656508"
            ]
          },
          "metadata": {},
          "execution_count": 31
        }
      ]
    },
    {
      "cell_type": "code",
      "source": [
        "2*stats.t.cdf(-7.54,df=49)"
      ],
      "metadata": {
        "colab": {
          "base_uri": "https://localhost:8080/"
        },
        "id": "8DuQW74wUj1t",
        "outputId": "8c7a9e03-26bb-4e24-920f-0d51e5e54577"
      },
      "execution_count": 33,
      "outputs": [
        {
          "output_type": "execute_result",
          "data": {
            "text/plain": [
              "9.710838698240386e-10"
            ]
          },
          "metadata": {},
          "execution_count": 33
        }
      ]
    },
    {
      "cell_type": "code",
      "source": [
        "import pandas as pd\n",
        "from scipy import stats\n",
        "Data =pd.Series([0.593,0.142,0.329,0.691,0.231,0.793,0.519,0.392,0.418])\n",
        "#this gives two tail t-value\n",
        "p= scipy.stats.ttest_1samp(Data,0.3)[1]\n",
        "p_value = p/2"
      ],
      "metadata": {
        "id": "nIjijWSKZR4J"
      },
      "execution_count": 38,
      "outputs": []
    },
    {
      "cell_type": "code",
      "source": [
        "p_value"
      ],
      "metadata": {
        "colab": {
          "base_uri": "https://localhost:8080/"
        },
        "id": "uCmuc4R1aUK5",
        "outputId": "dc60d82d-9ced-4541-f53c-0518679bc759"
      },
      "execution_count": 40,
      "outputs": [
        {
          "output_type": "execute_result",
          "data": {
            "text/plain": [
              "0.029265164842448826"
            ]
          },
          "metadata": {},
          "execution_count": 40
        }
      ]
    },
    {
      "cell_type": "code",
      "source": [
        "Control=pd.Series([91,87,99,77,88,91])\n",
        "Treat =pd.Series([101,110,103,93,99,104])"
      ],
      "metadata": {
        "id": "De84uYSUcAxw"
      },
      "execution_count": 43,
      "outputs": []
    },
    {
      "cell_type": "code",
      "source": [
        "#for 2sample 2tail t-test\n",
        "stats.ttest_ind(Control,Treat)"
      ],
      "metadata": {
        "colab": {
          "base_uri": "https://localhost:8080/"
        },
        "id": "irq-x7i9dVBx",
        "outputId": "9ea09afd-848e-4496-b3bc-8474281e4745"
      },
      "execution_count": 44,
      "outputs": [
        {
          "output_type": "execute_result",
          "data": {
            "text/plain": [
              "Ttest_indResult(statistic=-3.4456126735364876, pvalue=0.006272124350809803)"
            ]
          },
          "metadata": {},
          "execution_count": 44
        }
      ]
    },
    {
      "cell_type": "markdown",
      "source": [
        "###Proportion Test"
      ],
      "metadata": {
        "id": "G6GNSyc6gfgX"
      }
    },
    {
      "cell_type": "code",
      "source": [
        "n1 =247\n",
        "p1 =.37\n",
        "\n",
        "n2=308\n",
        "p2= .39"
      ],
      "metadata": {
        "id": "l9eN0mfadcvx"
      },
      "execution_count": 45,
      "outputs": []
    },
    {
      "cell_type": "code",
      "source": [
        "population1 =np.random.binomial(1,p1,n1)\n",
        "population2 =np.random.binomial(1,p2,n2)"
      ],
      "metadata": {
        "id": "YV_zv7y4epOg"
      },
      "execution_count": 46,
      "outputs": []
    },
    {
      "cell_type": "code",
      "source": [
        "import statsmodels.api as sm\n",
        "sm.stats.ttest_ind(population1,population2)"
      ],
      "metadata": {
        "colab": {
          "base_uri": "https://localhost:8080/"
        },
        "id": "ZS3aTWwTf364",
        "outputId": "81bfab73-ed68-4bed-dce4-07bc8de14bb7"
      },
      "execution_count": 47,
      "outputs": [
        {
          "output_type": "execute_result",
          "data": {
            "text/plain": [
              "(-0.19822752332850269, 0.8429399032294317, 553.0)"
            ]
          },
          "metadata": {},
          "execution_count": 47
        }
      ]
    },
    {
      "cell_type": "code",
      "source": [],
      "metadata": {
        "id": "9sdAH4rUgXu4"
      },
      "execution_count": null,
      "outputs": []
    }
  ]
}