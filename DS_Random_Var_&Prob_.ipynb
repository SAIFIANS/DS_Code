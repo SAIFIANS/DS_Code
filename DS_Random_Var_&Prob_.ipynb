{
  "nbformat": 4,
  "nbformat_minor": 0,
  "metadata": {
    "colab": {
      "provenance": [],
      "authorship_tag": "ABX9TyPPH9VwjQbFHjJunm+argJH",
      "include_colab_link": true
    },
    "kernelspec": {
      "name": "python3",
      "display_name": "Python 3"
    },
    "language_info": {
      "name": "python"
    }
  },
  "cells": [
    {
      "cell_type": "markdown",
      "metadata": {
        "id": "view-in-github",
        "colab_type": "text"
      },
      "source": [
        "<a href=\"https://colab.research.google.com/github/SAIFIANS/DS_Code/blob/main/DS_Random_Var_%26Prob_.ipynb\" target=\"_parent\"><img src=\"https://colab.research.google.com/assets/colab-badge.svg\" alt=\"Open In Colab\"/></a>"
      ]
    },
    {
      "cell_type": "markdown",
      "source": [
        "There are two types of events -\n",
        "\n",
        "Random Variable,         Deterministic Variable\n",
        "\n",
        "Deterministic Var - is Constant or fixed\n",
        "\n",
        "Random Var - Takes more than one values"
      ],
      "metadata": {
        "id": "y4yYbjUATAgx"
      }
    },
    {
      "cell_type": "code",
      "source": [],
      "metadata": {
        "id": "OqT1DlvrTU7I"
      },
      "execution_count": null,
      "outputs": []
    },
    {
      "cell_type": "markdown",
      "source": [
        "Probability Distributions can be done on Random Variables\n",
        "\n",
        "Binomial Distribution Rules -\n",
        "\n",
        "- Exp. should consists of n trials\n",
        "- Each trial can reasult in just two possible outcomes\n",
        "- The prob. of sucess if denoted by P, is same for every trial\n",
        "- The trials are independent that is the outcome on one trial does not affect the outcome on another trial\n"
      ],
      "metadata": {
        "id": "dxtEXScwVaw4"
      }
    },
    {
      "cell_type": "code",
      "source": [
        "#Probability Distributions and Confidence Interval-1current\n",
        "#19:59:00\n"
      ],
      "metadata": {
        "id": "Ii2NLExRca8_"
      },
      "execution_count": null,
      "outputs": []
    },
    {
      "cell_type": "code",
      "source": [],
      "metadata": {
        "id": "7_rBWKIYEc50"
      },
      "execution_count": null,
      "outputs": []
    }
  ]
}